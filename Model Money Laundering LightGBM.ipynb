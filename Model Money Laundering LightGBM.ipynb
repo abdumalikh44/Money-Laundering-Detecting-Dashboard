{
  "cells": [
    {
      "cell_type": "code",
      "source": [
        "from google.colab import drive\n",
        "drive.mount('/content/drive')"
      ],
      "metadata": {
        "colab": {
          "base_uri": "https://localhost:8080/"
        },
        "id": "9k0qgOi4s8KB",
        "outputId": "ac14b774-50fb-4f35-a0f7-30944fa4587b"
      },
      "execution_count": null,
      "outputs": [
        {
          "output_type": "stream",
          "name": "stdout",
          "text": [
            "Drive already mounted at /content/drive; to attempt to forcibly remount, call drive.mount(\"/content/drive\", force_remount=True).\n"
          ]
        }
      ]
    },
    {
      "cell_type": "code",
      "source": [
        "import pandas as pd\n",
        "\n",
        "file_path = \"/content/drive/MyDrive/SEMESTER 8/HI-Small_Trans.csv\"\n",
        "df = pd.read_csv(file_path)\n",
        "\n",
        "print(df.head())"
      ],
      "metadata": {
        "colab": {
          "base_uri": "https://localhost:8080/"
        },
        "id": "ucS3Bkg4s9pU",
        "outputId": "d0168c98-f6d4-46d2-ad32-4f222faff7da"
      },
      "execution_count": null,
      "outputs": [
        {
          "output_type": "stream",
          "name": "stdout",
          "text": [
            "          Timestamp  From Bank    Account  To Bank  Account.1  \\\n",
            "0  2022/09/01 00:20         10  8000EBD30       10  8000EBD30   \n",
            "1  2022/09/01 00:20       3208  8000F4580        1  8000F5340   \n",
            "2  2022/09/01 00:00       3209  8000F4670     3209  8000F4670   \n",
            "3  2022/09/01 00:02         12  8000F5030       12  8000F5030   \n",
            "4  2022/09/01 00:06         10  8000F5200       10  8000F5200   \n",
            "\n",
            "   Amount Received Receiving Currency  Amount Paid Payment Currency  \\\n",
            "0          3697.34          US Dollar      3697.34        US Dollar   \n",
            "1             0.01          US Dollar         0.01        US Dollar   \n",
            "2         14675.57          US Dollar     14675.57        US Dollar   \n",
            "3          2806.97          US Dollar      2806.97        US Dollar   \n",
            "4         36682.97          US Dollar     36682.97        US Dollar   \n",
            "\n",
            "  Payment Format  Is Laundering  \n",
            "0   Reinvestment              0  \n",
            "1         Cheque              0  \n",
            "2   Reinvestment              0  \n",
            "3   Reinvestment              0  \n",
            "4   Reinvestment              0  \n"
          ]
        }
      ]
    },
    {
      "cell_type": "code",
      "execution_count": null,
      "metadata": {
        "id": "qUp27buS3B6F",
        "colab": {
          "base_uri": "https://localhost:8080/",
          "height": 206
        },
        "outputId": "46ef1352-ea5d-4353-a050-118fdd268584"
      },
      "outputs": [
        {
          "output_type": "execute_result",
          "data": {
            "text/plain": [
              "          Timestamp  From Bank    Account  To Bank  Account.1  \\\n",
              "0  2022/09/01 00:20         10  8000EBD30       10  8000EBD30   \n",
              "1  2022/09/01 00:20       3208  8000F4580        1  8000F5340   \n",
              "2  2022/09/01 00:00       3209  8000F4670     3209  8000F4670   \n",
              "3  2022/09/01 00:02         12  8000F5030       12  8000F5030   \n",
              "4  2022/09/01 00:06         10  8000F5200       10  8000F5200   \n",
              "\n",
              "   Amount Received Receiving Currency  Amount Paid Payment Currency  \\\n",
              "0          3697.34          US Dollar      3697.34        US Dollar   \n",
              "1             0.01          US Dollar         0.01        US Dollar   \n",
              "2         14675.57          US Dollar     14675.57        US Dollar   \n",
              "3          2806.97          US Dollar      2806.97        US Dollar   \n",
              "4         36682.97          US Dollar     36682.97        US Dollar   \n",
              "\n",
              "  Payment Format  Is Laundering  \n",
              "0   Reinvestment              0  \n",
              "1         Cheque              0  \n",
              "2   Reinvestment              0  \n",
              "3   Reinvestment              0  \n",
              "4   Reinvestment              0  "
            ],
            "text/html": [
              "\n",
              "  <div id=\"df-968d612e-ba22-42a3-a977-0c1d9bc58e8a\" class=\"colab-df-container\">\n",
              "    <div>\n",
              "<style scoped>\n",
              "    .dataframe tbody tr th:only-of-type {\n",
              "        vertical-align: middle;\n",
              "    }\n",
              "\n",
              "    .dataframe tbody tr th {\n",
              "        vertical-align: top;\n",
              "    }\n",
              "\n",
              "    .dataframe thead th {\n",
              "        text-align: right;\n",
              "    }\n",
              "</style>\n",
              "<table border=\"1\" class=\"dataframe\">\n",
              "  <thead>\n",
              "    <tr style=\"text-align: right;\">\n",
              "      <th></th>\n",
              "      <th>Timestamp</th>\n",
              "      <th>From Bank</th>\n",
              "      <th>Account</th>\n",
              "      <th>To Bank</th>\n",
              "      <th>Account.1</th>\n",
              "      <th>Amount Received</th>\n",
              "      <th>Receiving Currency</th>\n",
              "      <th>Amount Paid</th>\n",
              "      <th>Payment Currency</th>\n",
              "      <th>Payment Format</th>\n",
              "      <th>Is Laundering</th>\n",
              "    </tr>\n",
              "  </thead>\n",
              "  <tbody>\n",
              "    <tr>\n",
              "      <th>0</th>\n",
              "      <td>2022/09/01 00:20</td>\n",
              "      <td>10</td>\n",
              "      <td>8000EBD30</td>\n",
              "      <td>10</td>\n",
              "      <td>8000EBD30</td>\n",
              "      <td>3697.34</td>\n",
              "      <td>US Dollar</td>\n",
              "      <td>3697.34</td>\n",
              "      <td>US Dollar</td>\n",
              "      <td>Reinvestment</td>\n",
              "      <td>0</td>\n",
              "    </tr>\n",
              "    <tr>\n",
              "      <th>1</th>\n",
              "      <td>2022/09/01 00:20</td>\n",
              "      <td>3208</td>\n",
              "      <td>8000F4580</td>\n",
              "      <td>1</td>\n",
              "      <td>8000F5340</td>\n",
              "      <td>0.01</td>\n",
              "      <td>US Dollar</td>\n",
              "      <td>0.01</td>\n",
              "      <td>US Dollar</td>\n",
              "      <td>Cheque</td>\n",
              "      <td>0</td>\n",
              "    </tr>\n",
              "    <tr>\n",
              "      <th>2</th>\n",
              "      <td>2022/09/01 00:00</td>\n",
              "      <td>3209</td>\n",
              "      <td>8000F4670</td>\n",
              "      <td>3209</td>\n",
              "      <td>8000F4670</td>\n",
              "      <td>14675.57</td>\n",
              "      <td>US Dollar</td>\n",
              "      <td>14675.57</td>\n",
              "      <td>US Dollar</td>\n",
              "      <td>Reinvestment</td>\n",
              "      <td>0</td>\n",
              "    </tr>\n",
              "    <tr>\n",
              "      <th>3</th>\n",
              "      <td>2022/09/01 00:02</td>\n",
              "      <td>12</td>\n",
              "      <td>8000F5030</td>\n",
              "      <td>12</td>\n",
              "      <td>8000F5030</td>\n",
              "      <td>2806.97</td>\n",
              "      <td>US Dollar</td>\n",
              "      <td>2806.97</td>\n",
              "      <td>US Dollar</td>\n",
              "      <td>Reinvestment</td>\n",
              "      <td>0</td>\n",
              "    </tr>\n",
              "    <tr>\n",
              "      <th>4</th>\n",
              "      <td>2022/09/01 00:06</td>\n",
              "      <td>10</td>\n",
              "      <td>8000F5200</td>\n",
              "      <td>10</td>\n",
              "      <td>8000F5200</td>\n",
              "      <td>36682.97</td>\n",
              "      <td>US Dollar</td>\n",
              "      <td>36682.97</td>\n",
              "      <td>US Dollar</td>\n",
              "      <td>Reinvestment</td>\n",
              "      <td>0</td>\n",
              "    </tr>\n",
              "  </tbody>\n",
              "</table>\n",
              "</div>\n",
              "    <div class=\"colab-df-buttons\">\n",
              "\n",
              "  <div class=\"colab-df-container\">\n",
              "    <button class=\"colab-df-convert\" onclick=\"convertToInteractive('df-968d612e-ba22-42a3-a977-0c1d9bc58e8a')\"\n",
              "            title=\"Convert this dataframe to an interactive table.\"\n",
              "            style=\"display:none;\">\n",
              "\n",
              "  <svg xmlns=\"http://www.w3.org/2000/svg\" height=\"24px\" viewBox=\"0 -960 960 960\">\n",
              "    <path d=\"M120-120v-720h720v720H120Zm60-500h600v-160H180v160Zm220 220h160v-160H400v160Zm0 220h160v-160H400v160ZM180-400h160v-160H180v160Zm440 0h160v-160H620v160ZM180-180h160v-160H180v160Zm440 0h160v-160H620v160Z\"/>\n",
              "  </svg>\n",
              "    </button>\n",
              "\n",
              "  <style>\n",
              "    .colab-df-container {\n",
              "      display:flex;\n",
              "      gap: 12px;\n",
              "    }\n",
              "\n",
              "    .colab-df-convert {\n",
              "      background-color: #E8F0FE;\n",
              "      border: none;\n",
              "      border-radius: 50%;\n",
              "      cursor: pointer;\n",
              "      display: none;\n",
              "      fill: #1967D2;\n",
              "      height: 32px;\n",
              "      padding: 0 0 0 0;\n",
              "      width: 32px;\n",
              "    }\n",
              "\n",
              "    .colab-df-convert:hover {\n",
              "      background-color: #E2EBFA;\n",
              "      box-shadow: 0px 1px 2px rgba(60, 64, 67, 0.3), 0px 1px 3px 1px rgba(60, 64, 67, 0.15);\n",
              "      fill: #174EA6;\n",
              "    }\n",
              "\n",
              "    .colab-df-buttons div {\n",
              "      margin-bottom: 4px;\n",
              "    }\n",
              "\n",
              "    [theme=dark] .colab-df-convert {\n",
              "      background-color: #3B4455;\n",
              "      fill: #D2E3FC;\n",
              "    }\n",
              "\n",
              "    [theme=dark] .colab-df-convert:hover {\n",
              "      background-color: #434B5C;\n",
              "      box-shadow: 0px 1px 3px 1px rgba(0, 0, 0, 0.15);\n",
              "      filter: drop-shadow(0px 1px 2px rgba(0, 0, 0, 0.3));\n",
              "      fill: #FFFFFF;\n",
              "    }\n",
              "  </style>\n",
              "\n",
              "    <script>\n",
              "      const buttonEl =\n",
              "        document.querySelector('#df-968d612e-ba22-42a3-a977-0c1d9bc58e8a button.colab-df-convert');\n",
              "      buttonEl.style.display =\n",
              "        google.colab.kernel.accessAllowed ? 'block' : 'none';\n",
              "\n",
              "      async function convertToInteractive(key) {\n",
              "        const element = document.querySelector('#df-968d612e-ba22-42a3-a977-0c1d9bc58e8a');\n",
              "        const dataTable =\n",
              "          await google.colab.kernel.invokeFunction('convertToInteractive',\n",
              "                                                    [key], {});\n",
              "        if (!dataTable) return;\n",
              "\n",
              "        const docLinkHtml = 'Like what you see? Visit the ' +\n",
              "          '<a target=\"_blank\" href=https://colab.research.google.com/notebooks/data_table.ipynb>data table notebook</a>'\n",
              "          + ' to learn more about interactive tables.';\n",
              "        element.innerHTML = '';\n",
              "        dataTable['output_type'] = 'display_data';\n",
              "        await google.colab.output.renderOutput(dataTable, element);\n",
              "        const docLink = document.createElement('div');\n",
              "        docLink.innerHTML = docLinkHtml;\n",
              "        element.appendChild(docLink);\n",
              "      }\n",
              "    </script>\n",
              "  </div>\n",
              "\n",
              "\n",
              "<div id=\"df-ecbcb5d2-c58f-4cc2-9130-aeaf3a88fc49\">\n",
              "  <button class=\"colab-df-quickchart\" onclick=\"quickchart('df-ecbcb5d2-c58f-4cc2-9130-aeaf3a88fc49')\"\n",
              "            title=\"Suggest charts\"\n",
              "            style=\"display:none;\">\n",
              "\n",
              "<svg xmlns=\"http://www.w3.org/2000/svg\" height=\"24px\"viewBox=\"0 0 24 24\"\n",
              "     width=\"24px\">\n",
              "    <g>\n",
              "        <path d=\"M19 3H5c-1.1 0-2 .9-2 2v14c0 1.1.9 2 2 2h14c1.1 0 2-.9 2-2V5c0-1.1-.9-2-2-2zM9 17H7v-7h2v7zm4 0h-2V7h2v10zm4 0h-2v-4h2v4z\"/>\n",
              "    </g>\n",
              "</svg>\n",
              "  </button>\n",
              "\n",
              "<style>\n",
              "  .colab-df-quickchart {\n",
              "      --bg-color: #E8F0FE;\n",
              "      --fill-color: #1967D2;\n",
              "      --hover-bg-color: #E2EBFA;\n",
              "      --hover-fill-color: #174EA6;\n",
              "      --disabled-fill-color: #AAA;\n",
              "      --disabled-bg-color: #DDD;\n",
              "  }\n",
              "\n",
              "  [theme=dark] .colab-df-quickchart {\n",
              "      --bg-color: #3B4455;\n",
              "      --fill-color: #D2E3FC;\n",
              "      --hover-bg-color: #434B5C;\n",
              "      --hover-fill-color: #FFFFFF;\n",
              "      --disabled-bg-color: #3B4455;\n",
              "      --disabled-fill-color: #666;\n",
              "  }\n",
              "\n",
              "  .colab-df-quickchart {\n",
              "    background-color: var(--bg-color);\n",
              "    border: none;\n",
              "    border-radius: 50%;\n",
              "    cursor: pointer;\n",
              "    display: none;\n",
              "    fill: var(--fill-color);\n",
              "    height: 32px;\n",
              "    padding: 0;\n",
              "    width: 32px;\n",
              "  }\n",
              "\n",
              "  .colab-df-quickchart:hover {\n",
              "    background-color: var(--hover-bg-color);\n",
              "    box-shadow: 0 1px 2px rgba(60, 64, 67, 0.3), 0 1px 3px 1px rgba(60, 64, 67, 0.15);\n",
              "    fill: var(--button-hover-fill-color);\n",
              "  }\n",
              "\n",
              "  .colab-df-quickchart-complete:disabled,\n",
              "  .colab-df-quickchart-complete:disabled:hover {\n",
              "    background-color: var(--disabled-bg-color);\n",
              "    fill: var(--disabled-fill-color);\n",
              "    box-shadow: none;\n",
              "  }\n",
              "\n",
              "  .colab-df-spinner {\n",
              "    border: 2px solid var(--fill-color);\n",
              "    border-color: transparent;\n",
              "    border-bottom-color: var(--fill-color);\n",
              "    animation:\n",
              "      spin 1s steps(1) infinite;\n",
              "  }\n",
              "\n",
              "  @keyframes spin {\n",
              "    0% {\n",
              "      border-color: transparent;\n",
              "      border-bottom-color: var(--fill-color);\n",
              "      border-left-color: var(--fill-color);\n",
              "    }\n",
              "    20% {\n",
              "      border-color: transparent;\n",
              "      border-left-color: var(--fill-color);\n",
              "      border-top-color: var(--fill-color);\n",
              "    }\n",
              "    30% {\n",
              "      border-color: transparent;\n",
              "      border-left-color: var(--fill-color);\n",
              "      border-top-color: var(--fill-color);\n",
              "      border-right-color: var(--fill-color);\n",
              "    }\n",
              "    40% {\n",
              "      border-color: transparent;\n",
              "      border-right-color: var(--fill-color);\n",
              "      border-top-color: var(--fill-color);\n",
              "    }\n",
              "    60% {\n",
              "      border-color: transparent;\n",
              "      border-right-color: var(--fill-color);\n",
              "    }\n",
              "    80% {\n",
              "      border-color: transparent;\n",
              "      border-right-color: var(--fill-color);\n",
              "      border-bottom-color: var(--fill-color);\n",
              "    }\n",
              "    90% {\n",
              "      border-color: transparent;\n",
              "      border-bottom-color: var(--fill-color);\n",
              "    }\n",
              "  }\n",
              "</style>\n",
              "\n",
              "  <script>\n",
              "    async function quickchart(key) {\n",
              "      const quickchartButtonEl =\n",
              "        document.querySelector('#' + key + ' button');\n",
              "      quickchartButtonEl.disabled = true;  // To prevent multiple clicks.\n",
              "      quickchartButtonEl.classList.add('colab-df-spinner');\n",
              "      try {\n",
              "        const charts = await google.colab.kernel.invokeFunction(\n",
              "            'suggestCharts', [key], {});\n",
              "      } catch (error) {\n",
              "        console.error('Error during call to suggestCharts:', error);\n",
              "      }\n",
              "      quickchartButtonEl.classList.remove('colab-df-spinner');\n",
              "      quickchartButtonEl.classList.add('colab-df-quickchart-complete');\n",
              "    }\n",
              "    (() => {\n",
              "      let quickchartButtonEl =\n",
              "        document.querySelector('#df-ecbcb5d2-c58f-4cc2-9130-aeaf3a88fc49 button');\n",
              "      quickchartButtonEl.style.display =\n",
              "        google.colab.kernel.accessAllowed ? 'block' : 'none';\n",
              "    })();\n",
              "  </script>\n",
              "</div>\n",
              "\n",
              "    </div>\n",
              "  </div>\n"
            ],
            "application/vnd.google.colaboratory.intrinsic+json": {
              "type": "dataframe",
              "variable_name": "df"
            }
          },
          "metadata": {},
          "execution_count": 56
        }
      ],
      "source": [
        "df.head()"
      ]
    },
    {
      "cell_type": "code",
      "execution_count": null,
      "metadata": {
        "id": "GN0zCJ6B4LuV",
        "colab": {
          "base_uri": "https://localhost:8080/"
        },
        "outputId": "4e376763-5aa8-41b1-cf06-6f9cf08c25a7"
      },
      "outputs": [
        {
          "output_type": "stream",
          "name": "stdout",
          "text": [
            "<class 'pandas.core.frame.DataFrame'>\n",
            "RangeIndex: 5078345 entries, 0 to 5078344\n",
            "Data columns (total 11 columns):\n",
            " #   Column              Dtype  \n",
            "---  ------              -----  \n",
            " 0   Timestamp           object \n",
            " 1   From Bank           int64  \n",
            " 2   Account             object \n",
            " 3   To Bank             int64  \n",
            " 4   Account.1           object \n",
            " 5   Amount Received     float64\n",
            " 6   Receiving Currency  object \n",
            " 7   Amount Paid         float64\n",
            " 8   Payment Currency    object \n",
            " 9   Payment Format      object \n",
            " 10  Is Laundering       int64  \n",
            "dtypes: float64(2), int64(3), object(6)\n",
            "memory usage: 426.2+ MB\n"
          ]
        }
      ],
      "source": [
        "df.info()"
      ]
    },
    {
      "cell_type": "code",
      "execution_count": null,
      "metadata": {
        "id": "exGcyhaF-dAh"
      },
      "outputs": [],
      "source": [
        "df['Timestamp']= pd.to_datetime(df['Timestamp'])\n",
        "df['From Bank']= df['From Bank'].astype('object')\n",
        "df['To Bank']= df['To Bank'].astype(\"object\")\n",
        "df['Is Laundering'] = df[\"Is Laundering\"].astype('object')"
      ]
    },
    {
      "cell_type": "code",
      "execution_count": null,
      "metadata": {
        "id": "rSoeiSTj_DZ8",
        "colab": {
          "base_uri": "https://localhost:8080/",
          "height": 429
        },
        "outputId": "90033477-964b-4bd4-9184-d9b89a7c6ff4"
      },
      "outputs": [
        {
          "output_type": "execute_result",
          "data": {
            "text/plain": [
              "Timestamp             datetime64[ns]\n",
              "From Bank                     object\n",
              "Account                       object\n",
              "To Bank                       object\n",
              "Account.1                     object\n",
              "Amount Received              float64\n",
              "Receiving Currency            object\n",
              "Amount Paid                  float64\n",
              "Payment Currency              object\n",
              "Payment Format                object\n",
              "Is Laundering                 object\n",
              "dtype: object"
            ],
            "text/html": [
              "<div>\n",
              "<style scoped>\n",
              "    .dataframe tbody tr th:only-of-type {\n",
              "        vertical-align: middle;\n",
              "    }\n",
              "\n",
              "    .dataframe tbody tr th {\n",
              "        vertical-align: top;\n",
              "    }\n",
              "\n",
              "    .dataframe thead th {\n",
              "        text-align: right;\n",
              "    }\n",
              "</style>\n",
              "<table border=\"1\" class=\"dataframe\">\n",
              "  <thead>\n",
              "    <tr style=\"text-align: right;\">\n",
              "      <th></th>\n",
              "      <th>0</th>\n",
              "    </tr>\n",
              "  </thead>\n",
              "  <tbody>\n",
              "    <tr>\n",
              "      <th>Timestamp</th>\n",
              "      <td>datetime64[ns]</td>\n",
              "    </tr>\n",
              "    <tr>\n",
              "      <th>From Bank</th>\n",
              "      <td>object</td>\n",
              "    </tr>\n",
              "    <tr>\n",
              "      <th>Account</th>\n",
              "      <td>object</td>\n",
              "    </tr>\n",
              "    <tr>\n",
              "      <th>To Bank</th>\n",
              "      <td>object</td>\n",
              "    </tr>\n",
              "    <tr>\n",
              "      <th>Account.1</th>\n",
              "      <td>object</td>\n",
              "    </tr>\n",
              "    <tr>\n",
              "      <th>Amount Received</th>\n",
              "      <td>float64</td>\n",
              "    </tr>\n",
              "    <tr>\n",
              "      <th>Receiving Currency</th>\n",
              "      <td>object</td>\n",
              "    </tr>\n",
              "    <tr>\n",
              "      <th>Amount Paid</th>\n",
              "      <td>float64</td>\n",
              "    </tr>\n",
              "    <tr>\n",
              "      <th>Payment Currency</th>\n",
              "      <td>object</td>\n",
              "    </tr>\n",
              "    <tr>\n",
              "      <th>Payment Format</th>\n",
              "      <td>object</td>\n",
              "    </tr>\n",
              "    <tr>\n",
              "      <th>Is Laundering</th>\n",
              "      <td>object</td>\n",
              "    </tr>\n",
              "  </tbody>\n",
              "</table>\n",
              "</div><br><label><b>dtype:</b> object</label>"
            ]
          },
          "metadata": {},
          "execution_count": 59
        }
      ],
      "source": [
        "df.dtypes"
      ]
    },
    {
      "cell_type": "code",
      "source": [
        "df['Date']=df[\"Timestamp\"].dt.date"
      ],
      "metadata": {
        "id": "xXFUsjp-VA8C"
      },
      "execution_count": null,
      "outputs": []
    },
    {
      "cell_type": "code",
      "source": [
        "df['Time']=df[\"Timestamp\"].dt.time"
      ],
      "metadata": {
        "id": "-irRrfp1VBSV"
      },
      "execution_count": null,
      "outputs": []
    },
    {
      "cell_type": "markdown",
      "source": [
        "<h1>Relationship</h1>"
      ],
      "metadata": {
        "id": "N8yd4uPJUFyq"
      }
    },
    {
      "cell_type": "code",
      "source": [
        "df.drop([\"Timestamp\"], axis=1, inplace=True)"
      ],
      "metadata": {
        "id": "AaFjVoGyUDhk"
      },
      "execution_count": null,
      "outputs": []
    },
    {
      "cell_type": "code",
      "source": [
        "df.head(2)"
      ],
      "metadata": {
        "id": "UvrGBsd2UP3L",
        "colab": {
          "base_uri": "https://localhost:8080/",
          "height": 112
        },
        "outputId": "97cc135f-c997-4a04-d131-365272c75891"
      },
      "execution_count": null,
      "outputs": [
        {
          "output_type": "execute_result",
          "data": {
            "text/plain": [
              "  From Bank    Account To Bank  Account.1  Amount Received Receiving Currency  \\\n",
              "0        10  8000EBD30      10  8000EBD30          3697.34          US Dollar   \n",
              "1      3208  8000F4580       1  8000F5340             0.01          US Dollar   \n",
              "\n",
              "   Amount Paid Payment Currency Payment Format Is Laundering        Date  \\\n",
              "0      3697.34        US Dollar   Reinvestment             0  2022-09-01   \n",
              "1         0.01        US Dollar         Cheque             0  2022-09-01   \n",
              "\n",
              "       Time  \n",
              "0  00:20:00  \n",
              "1  00:20:00  "
            ],
            "text/html": [
              "\n",
              "  <div id=\"df-53e49fb7-1165-4aa0-aa11-773d275067a6\" class=\"colab-df-container\">\n",
              "    <div>\n",
              "<style scoped>\n",
              "    .dataframe tbody tr th:only-of-type {\n",
              "        vertical-align: middle;\n",
              "    }\n",
              "\n",
              "    .dataframe tbody tr th {\n",
              "        vertical-align: top;\n",
              "    }\n",
              "\n",
              "    .dataframe thead th {\n",
              "        text-align: right;\n",
              "    }\n",
              "</style>\n",
              "<table border=\"1\" class=\"dataframe\">\n",
              "  <thead>\n",
              "    <tr style=\"text-align: right;\">\n",
              "      <th></th>\n",
              "      <th>From Bank</th>\n",
              "      <th>Account</th>\n",
              "      <th>To Bank</th>\n",
              "      <th>Account.1</th>\n",
              "      <th>Amount Received</th>\n",
              "      <th>Receiving Currency</th>\n",
              "      <th>Amount Paid</th>\n",
              "      <th>Payment Currency</th>\n",
              "      <th>Payment Format</th>\n",
              "      <th>Is Laundering</th>\n",
              "      <th>Date</th>\n",
              "      <th>Time</th>\n",
              "    </tr>\n",
              "  </thead>\n",
              "  <tbody>\n",
              "    <tr>\n",
              "      <th>0</th>\n",
              "      <td>10</td>\n",
              "      <td>8000EBD30</td>\n",
              "      <td>10</td>\n",
              "      <td>8000EBD30</td>\n",
              "      <td>3697.34</td>\n",
              "      <td>US Dollar</td>\n",
              "      <td>3697.34</td>\n",
              "      <td>US Dollar</td>\n",
              "      <td>Reinvestment</td>\n",
              "      <td>0</td>\n",
              "      <td>2022-09-01</td>\n",
              "      <td>00:20:00</td>\n",
              "    </tr>\n",
              "    <tr>\n",
              "      <th>1</th>\n",
              "      <td>3208</td>\n",
              "      <td>8000F4580</td>\n",
              "      <td>1</td>\n",
              "      <td>8000F5340</td>\n",
              "      <td>0.01</td>\n",
              "      <td>US Dollar</td>\n",
              "      <td>0.01</td>\n",
              "      <td>US Dollar</td>\n",
              "      <td>Cheque</td>\n",
              "      <td>0</td>\n",
              "      <td>2022-09-01</td>\n",
              "      <td>00:20:00</td>\n",
              "    </tr>\n",
              "  </tbody>\n",
              "</table>\n",
              "</div>\n",
              "    <div class=\"colab-df-buttons\">\n",
              "\n",
              "  <div class=\"colab-df-container\">\n",
              "    <button class=\"colab-df-convert\" onclick=\"convertToInteractive('df-53e49fb7-1165-4aa0-aa11-773d275067a6')\"\n",
              "            title=\"Convert this dataframe to an interactive table.\"\n",
              "            style=\"display:none;\">\n",
              "\n",
              "  <svg xmlns=\"http://www.w3.org/2000/svg\" height=\"24px\" viewBox=\"0 -960 960 960\">\n",
              "    <path d=\"M120-120v-720h720v720H120Zm60-500h600v-160H180v160Zm220 220h160v-160H400v160Zm0 220h160v-160H400v160ZM180-400h160v-160H180v160Zm440 0h160v-160H620v160ZM180-180h160v-160H180v160Zm440 0h160v-160H620v160Z\"/>\n",
              "  </svg>\n",
              "    </button>\n",
              "\n",
              "  <style>\n",
              "    .colab-df-container {\n",
              "      display:flex;\n",
              "      gap: 12px;\n",
              "    }\n",
              "\n",
              "    .colab-df-convert {\n",
              "      background-color: #E8F0FE;\n",
              "      border: none;\n",
              "      border-radius: 50%;\n",
              "      cursor: pointer;\n",
              "      display: none;\n",
              "      fill: #1967D2;\n",
              "      height: 32px;\n",
              "      padding: 0 0 0 0;\n",
              "      width: 32px;\n",
              "    }\n",
              "\n",
              "    .colab-df-convert:hover {\n",
              "      background-color: #E2EBFA;\n",
              "      box-shadow: 0px 1px 2px rgba(60, 64, 67, 0.3), 0px 1px 3px 1px rgba(60, 64, 67, 0.15);\n",
              "      fill: #174EA6;\n",
              "    }\n",
              "\n",
              "    .colab-df-buttons div {\n",
              "      margin-bottom: 4px;\n",
              "    }\n",
              "\n",
              "    [theme=dark] .colab-df-convert {\n",
              "      background-color: #3B4455;\n",
              "      fill: #D2E3FC;\n",
              "    }\n",
              "\n",
              "    [theme=dark] .colab-df-convert:hover {\n",
              "      background-color: #434B5C;\n",
              "      box-shadow: 0px 1px 3px 1px rgba(0, 0, 0, 0.15);\n",
              "      filter: drop-shadow(0px 1px 2px rgba(0, 0, 0, 0.3));\n",
              "      fill: #FFFFFF;\n",
              "    }\n",
              "  </style>\n",
              "\n",
              "    <script>\n",
              "      const buttonEl =\n",
              "        document.querySelector('#df-53e49fb7-1165-4aa0-aa11-773d275067a6 button.colab-df-convert');\n",
              "      buttonEl.style.display =\n",
              "        google.colab.kernel.accessAllowed ? 'block' : 'none';\n",
              "\n",
              "      async function convertToInteractive(key) {\n",
              "        const element = document.querySelector('#df-53e49fb7-1165-4aa0-aa11-773d275067a6');\n",
              "        const dataTable =\n",
              "          await google.colab.kernel.invokeFunction('convertToInteractive',\n",
              "                                                    [key], {});\n",
              "        if (!dataTable) return;\n",
              "\n",
              "        const docLinkHtml = 'Like what you see? Visit the ' +\n",
              "          '<a target=\"_blank\" href=https://colab.research.google.com/notebooks/data_table.ipynb>data table notebook</a>'\n",
              "          + ' to learn more about interactive tables.';\n",
              "        element.innerHTML = '';\n",
              "        dataTable['output_type'] = 'display_data';\n",
              "        await google.colab.output.renderOutput(dataTable, element);\n",
              "        const docLink = document.createElement('div');\n",
              "        docLink.innerHTML = docLinkHtml;\n",
              "        element.appendChild(docLink);\n",
              "      }\n",
              "    </script>\n",
              "  </div>\n",
              "\n",
              "\n",
              "<div id=\"df-8b7361cf-11b3-41fb-b934-33b40185fe2e\">\n",
              "  <button class=\"colab-df-quickchart\" onclick=\"quickchart('df-8b7361cf-11b3-41fb-b934-33b40185fe2e')\"\n",
              "            title=\"Suggest charts\"\n",
              "            style=\"display:none;\">\n",
              "\n",
              "<svg xmlns=\"http://www.w3.org/2000/svg\" height=\"24px\"viewBox=\"0 0 24 24\"\n",
              "     width=\"24px\">\n",
              "    <g>\n",
              "        <path d=\"M19 3H5c-1.1 0-2 .9-2 2v14c0 1.1.9 2 2 2h14c1.1 0 2-.9 2-2V5c0-1.1-.9-2-2-2zM9 17H7v-7h2v7zm4 0h-2V7h2v10zm4 0h-2v-4h2v4z\"/>\n",
              "    </g>\n",
              "</svg>\n",
              "  </button>\n",
              "\n",
              "<style>\n",
              "  .colab-df-quickchart {\n",
              "      --bg-color: #E8F0FE;\n",
              "      --fill-color: #1967D2;\n",
              "      --hover-bg-color: #E2EBFA;\n",
              "      --hover-fill-color: #174EA6;\n",
              "      --disabled-fill-color: #AAA;\n",
              "      --disabled-bg-color: #DDD;\n",
              "  }\n",
              "\n",
              "  [theme=dark] .colab-df-quickchart {\n",
              "      --bg-color: #3B4455;\n",
              "      --fill-color: #D2E3FC;\n",
              "      --hover-bg-color: #434B5C;\n",
              "      --hover-fill-color: #FFFFFF;\n",
              "      --disabled-bg-color: #3B4455;\n",
              "      --disabled-fill-color: #666;\n",
              "  }\n",
              "\n",
              "  .colab-df-quickchart {\n",
              "    background-color: var(--bg-color);\n",
              "    border: none;\n",
              "    border-radius: 50%;\n",
              "    cursor: pointer;\n",
              "    display: none;\n",
              "    fill: var(--fill-color);\n",
              "    height: 32px;\n",
              "    padding: 0;\n",
              "    width: 32px;\n",
              "  }\n",
              "\n",
              "  .colab-df-quickchart:hover {\n",
              "    background-color: var(--hover-bg-color);\n",
              "    box-shadow: 0 1px 2px rgba(60, 64, 67, 0.3), 0 1px 3px 1px rgba(60, 64, 67, 0.15);\n",
              "    fill: var(--button-hover-fill-color);\n",
              "  }\n",
              "\n",
              "  .colab-df-quickchart-complete:disabled,\n",
              "  .colab-df-quickchart-complete:disabled:hover {\n",
              "    background-color: var(--disabled-bg-color);\n",
              "    fill: var(--disabled-fill-color);\n",
              "    box-shadow: none;\n",
              "  }\n",
              "\n",
              "  .colab-df-spinner {\n",
              "    border: 2px solid var(--fill-color);\n",
              "    border-color: transparent;\n",
              "    border-bottom-color: var(--fill-color);\n",
              "    animation:\n",
              "      spin 1s steps(1) infinite;\n",
              "  }\n",
              "\n",
              "  @keyframes spin {\n",
              "    0% {\n",
              "      border-color: transparent;\n",
              "      border-bottom-color: var(--fill-color);\n",
              "      border-left-color: var(--fill-color);\n",
              "    }\n",
              "    20% {\n",
              "      border-color: transparent;\n",
              "      border-left-color: var(--fill-color);\n",
              "      border-top-color: var(--fill-color);\n",
              "    }\n",
              "    30% {\n",
              "      border-color: transparent;\n",
              "      border-left-color: var(--fill-color);\n",
              "      border-top-color: var(--fill-color);\n",
              "      border-right-color: var(--fill-color);\n",
              "    }\n",
              "    40% {\n",
              "      border-color: transparent;\n",
              "      border-right-color: var(--fill-color);\n",
              "      border-top-color: var(--fill-color);\n",
              "    }\n",
              "    60% {\n",
              "      border-color: transparent;\n",
              "      border-right-color: var(--fill-color);\n",
              "    }\n",
              "    80% {\n",
              "      border-color: transparent;\n",
              "      border-right-color: var(--fill-color);\n",
              "      border-bottom-color: var(--fill-color);\n",
              "    }\n",
              "    90% {\n",
              "      border-color: transparent;\n",
              "      border-bottom-color: var(--fill-color);\n",
              "    }\n",
              "  }\n",
              "</style>\n",
              "\n",
              "  <script>\n",
              "    async function quickchart(key) {\n",
              "      const quickchartButtonEl =\n",
              "        document.querySelector('#' + key + ' button');\n",
              "      quickchartButtonEl.disabled = true;  // To prevent multiple clicks.\n",
              "      quickchartButtonEl.classList.add('colab-df-spinner');\n",
              "      try {\n",
              "        const charts = await google.colab.kernel.invokeFunction(\n",
              "            'suggestCharts', [key], {});\n",
              "      } catch (error) {\n",
              "        console.error('Error during call to suggestCharts:', error);\n",
              "      }\n",
              "      quickchartButtonEl.classList.remove('colab-df-spinner');\n",
              "      quickchartButtonEl.classList.add('colab-df-quickchart-complete');\n",
              "    }\n",
              "    (() => {\n",
              "      let quickchartButtonEl =\n",
              "        document.querySelector('#df-8b7361cf-11b3-41fb-b934-33b40185fe2e button');\n",
              "      quickchartButtonEl.style.display =\n",
              "        google.colab.kernel.accessAllowed ? 'block' : 'none';\n",
              "    })();\n",
              "  </script>\n",
              "</div>\n",
              "\n",
              "    </div>\n",
              "  </div>\n"
            ],
            "application/vnd.google.colaboratory.intrinsic+json": {
              "type": "dataframe",
              "variable_name": "df"
            }
          },
          "metadata": {},
          "execution_count": 63
        }
      ]
    },
    {
      "cell_type": "code",
      "source": [
        "df.drop('Time', axis=1, inplace=True)"
      ],
      "metadata": {
        "id": "9StsTms_UQtD"
      },
      "execution_count": null,
      "outputs": []
    },
    {
      "cell_type": "code",
      "source": [
        "contingency = pd.crosstab(df['Is Laundering'], df[\"Date\"])"
      ],
      "metadata": {
        "id": "UG2-1RAuUUyf"
      },
      "execution_count": null,
      "outputs": []
    },
    {
      "cell_type": "code",
      "source": [
        "X = df.drop(['Is Laundering'],axis=1)\n",
        "Y = df['Is Laundering']"
      ],
      "metadata": {
        "id": "Nqq_mmp-TZEw"
      },
      "execution_count": null,
      "outputs": []
    },
    {
      "cell_type": "markdown",
      "metadata": {
        "id": "tLxi6SwwFNkk"
      },
      "source": [
        "#Check Overfitting\n",
        "from sklearn.metrics import accuracy_score\n",
        "\n",
        "# Predict on training set\n",
        "y_train_pred = xgboost.predict(X_train)\n",
        "train_accuracy = accuracy_score(y_train, y_train_pred)\n",
        "\n",
        "# Predict on test set\n",
        "y_test_pred = xgboost.predict(X_test)\n",
        "test_accuracy = accuracy_score(y_test, y_test_pred)\n",
        "\n",
        "print(f\"Training Accuracy: {train_accuracy}\")\n",
        "print(f\"Test Accuracy: {test_accuracy}\")\n"
      ]
    },
    {
      "cell_type": "markdown",
      "metadata": {
        "id": "XuWoiZly9fil"
      },
      "source": [
        "###Random Under Sampling (RUS)\n",
        "\n"
      ]
    },
    {
      "cell_type": "code",
      "execution_count": null,
      "metadata": {
        "id": "JTJvX9w2GT0G",
        "colab": {
          "base_uri": "https://localhost:8080/"
        },
        "outputId": "8f12dbcd-a0b5-40f4-ffad-f32c24587493"
      },
      "outputs": [
        {
          "output_type": "stream",
          "name": "stdout",
          "text": [
            "Requirement already satisfied: imbalanced-learn==0.12.4 in /usr/local/lib/python3.11/dist-packages (0.12.4)\n",
            "Requirement already satisfied: numpy>=1.17.3 in /usr/local/lib/python3.11/dist-packages (from imbalanced-learn==0.12.4) (2.0.2)\n",
            "Requirement already satisfied: scipy>=1.5.0 in /usr/local/lib/python3.11/dist-packages (from imbalanced-learn==0.12.4) (1.14.1)\n",
            "Requirement already satisfied: scikit-learn>=1.0.2 in /usr/local/lib/python3.11/dist-packages (from imbalanced-learn==0.12.4) (1.6.1)\n",
            "Requirement already satisfied: joblib>=1.1.1 in /usr/local/lib/python3.11/dist-packages (from imbalanced-learn==0.12.4) (1.4.2)\n",
            "Requirement already satisfied: threadpoolctl>=2.0.0 in /usr/local/lib/python3.11/dist-packages (from imbalanced-learn==0.12.4) (3.6.0)\n"
          ]
        }
      ],
      "source": [
        "!pip install imbalanced-learn==0.12.4"
      ]
    },
    {
      "cell_type": "code",
      "source": [
        "from sklearn.model_selection import train_test_split"
      ],
      "metadata": {
        "id": "2x240kzVTkqJ"
      },
      "execution_count": null,
      "outputs": []
    },
    {
      "cell_type": "code",
      "execution_count": null,
      "metadata": {
        "id": "OyEW5769dlN5"
      },
      "outputs": [],
      "source": [
        "from imblearn.under_sampling import RandomUnderSampler"
      ]
    },
    {
      "cell_type": "code",
      "execution_count": null,
      "metadata": {
        "id": "H1myKVdE_3v4"
      },
      "outputs": [],
      "source": [
        "rus = RandomUnderSampler()"
      ]
    },
    {
      "cell_type": "code",
      "execution_count": null,
      "metadata": {
        "id": "zU2Ys5nJ3eLl",
        "colab": {
          "base_uri": "https://localhost:8080/"
        },
        "outputId": "e7ab35e2-1ec5-445b-dca0-ffe091d35152"
      },
      "outputs": [
        {
          "output_type": "stream",
          "name": "stderr",
          "text": [
            "/usr/local/lib/python3.11/dist-packages/sklearn/base.py:484: FutureWarning: `BaseEstimator._check_n_features` is deprecated in 1.6 and will be removed in 1.7. Use `sklearn.utils.validation._check_n_features` instead.\n",
            "  warnings.warn(\n",
            "/usr/local/lib/python3.11/dist-packages/sklearn/base.py:493: FutureWarning: `BaseEstimator._check_feature_names` is deprecated in 1.6 and will be removed in 1.7. Use `sklearn.utils.validation._check_feature_names` instead.\n",
            "  warnings.warn(\n"
          ]
        }
      ],
      "source": [
        "X_s,y_s = rus.fit_resample(X,Y.astype('int'))\n",
        "X_train,X_test,y_train,y_test = train_test_split(X_s,y_s,test_size=0.3,random_state=42)"
      ]
    },
    {
      "cell_type": "markdown",
      "metadata": {
        "id": "XdY__xNdKPSO"
      },
      "source": [
        "###LightBM"
      ]
    },
    {
      "cell_type": "code",
      "source": [
        "from sklearn.preprocessing import OneHotEncoder\n",
        "from sklearn.pipeline import Pipeline\n",
        "from sklearn.compose import ColumnTransformer"
      ],
      "metadata": {
        "id": "5b57sjhWTAYW"
      },
      "execution_count": null,
      "outputs": []
    },
    {
      "cell_type": "code",
      "execution_count": null,
      "metadata": {
        "id": "W9gHt7KBcJ8d"
      },
      "outputs": [],
      "source": [
        "cat = ['From Bank','Account','To Bank','Receiving Currency','Payment Currency','Payment Format','Date']"
      ]
    },
    {
      "cell_type": "code",
      "execution_count": null,
      "metadata": {
        "id": "EKeu0JnNEYmn"
      },
      "outputs": [],
      "source": [
        "from sklearn.metrics import roc_auc_score, classification_report"
      ]
    },
    {
      "cell_type": "code",
      "source": [
        "#If the targets have strings or unexpected values, you may need to convert them to integer labels\n",
        "y_train = y_train.astype(int)\n",
        "y_test = y_test.astype(int)"
      ],
      "metadata": {
        "id": "Iccx-GLFYf0k"
      },
      "execution_count": null,
      "outputs": []
    },
    {
      "cell_type": "code",
      "source": [
        "# Convert to numeric if possible\n",
        "X_train[\"Account.1\"] = pd.to_numeric(X_train[\"Account.1\"], errors=\"coerce\")\n",
        "X_test[\"Account.1\"] = pd.to_numeric(X_test[\"Account.1\"], errors=\"coerce\")\n",
        "\n"
      ],
      "metadata": {
        "id": "VJpNOw7ZZG5Q"
      },
      "execution_count": null,
      "outputs": []
    },
    {
      "cell_type": "code",
      "source": [
        "for col in X_test.columns:\n",
        "    if X_test[col].dtype == 'object':\n",
        "        print(f\"Column '{col}' unique values: {X_test[col].unique()[:5]}\")"
      ],
      "metadata": {
        "id": "Of4_SA2QY6P5",
        "colab": {
          "base_uri": "https://localhost:8080/"
        },
        "outputId": "e032ad22-01a9-492c-e45d-e437ed19da2b"
      },
      "execution_count": null,
      "outputs": [
        {
          "output_type": "stream",
          "name": "stdout",
          "text": [
            "Column 'From Bank' unique values: [70 220 115363 213 11852]\n",
            "Column 'Account' unique values: ['100428978' '100428A08' '813DF9D01' '805DD2440' '8090BFBC0']\n",
            "Column 'To Bank' unique values: [41148 222 153706 24869 19]\n",
            "Column 'Receiving Currency' unique values: ['Swiss Franc' 'Saudi Riyal' 'Bitcoin' 'US Dollar' 'Canadian Dollar']\n",
            "Column 'Payment Currency' unique values: ['Swiss Franc' 'Saudi Riyal' 'Bitcoin' 'US Dollar' 'Canadian Dollar']\n",
            "Column 'Payment Format' unique values: ['Credit Card' 'Cheque' 'Bitcoin' 'ACH' 'Cash']\n",
            "Column 'Date' unique values: [datetime.date(2022, 9, 6) datetime.date(2022, 9, 4)\n",
            " datetime.date(2022, 9, 7) datetime.date(2022, 9, 9)\n",
            " datetime.date(2022, 9, 3)]\n"
          ]
        }
      ]
    },
    {
      "cell_type": "code",
      "execution_count": null,
      "metadata": {
        "id": "9soupLu6C9nW",
        "colab": {
          "base_uri": "https://localhost:8080/"
        },
        "outputId": "a8847264-0978-4ffa-a8ae-491fc377a2ea"
      },
      "outputs": [
        {
          "output_type": "stream",
          "name": "stderr",
          "text": [
            "/usr/local/lib/python3.11/dist-packages/sklearn/utils/deprecation.py:151: FutureWarning: 'force_all_finite' was renamed to 'ensure_all_finite' in 1.6 and will be removed in 1.8.\n",
            "  warnings.warn(\n"
          ]
        },
        {
          "output_type": "stream",
          "name": "stdout",
          "text": [
            "[LightGBM] [Info] Number of positive: 3656, number of negative: 3591\n",
            "[LightGBM] [Info] Auto-choosing row-wise multi-threading, the overhead of testing was 0.008053 seconds.\n",
            "You can set `force_row_wise=true` to remove the overhead.\n",
            "And if memory is not enough, you can set `force_col_wise=true`.\n",
            "[LightGBM] [Info] Total Bins 1047\n",
            "[LightGBM] [Info] Number of data points in the train set: 7247, number of used features: 166\n",
            "[LightGBM] [Info] [binary:BoostFromScore]: pavg=0.504485 -> initscore=0.017939\n",
            "[LightGBM] [Info] Start training from score 0.017939\n",
            "              precision    recall  f1-score   support\n",
            "\n",
            "           0       0.93      0.86      0.89      1586\n",
            "           1       0.86      0.93      0.90      1521\n",
            "\n",
            "    accuracy                           0.89      3107\n",
            "   macro avg       0.90      0.89      0.89      3107\n",
            "weighted avg       0.90      0.89      0.89      3107\n",
            "\n"
          ]
        },
        {
          "output_type": "stream",
          "name": "stderr",
          "text": [
            "/usr/local/lib/python3.11/dist-packages/sklearn/preprocessing/_encoders.py:246: UserWarning: Found unknown categories in columns [0, 1, 2] during transform. These unknown categories will be encoded as all zeros\n",
            "  warnings.warn(\n",
            "/usr/local/lib/python3.11/dist-packages/sklearn/utils/deprecation.py:151: FutureWarning: 'force_all_finite' was renamed to 'ensure_all_finite' in 1.6 and will be removed in 1.8.\n",
            "  warnings.warn(\n"
          ]
        }
      ],
      "source": [
        "from lightgbm import LGBMClassifier\n",
        "ohe = Pipeline([('Encoder',OneHotEncoder(drop = 'first',handle_unknown='ignore'))])\n",
        "transformer = ColumnTransformer([('One Hot Encoding',ohe,cat)], remainder = \"passthrough\")\n",
        "lbm = Pipeline([\n",
        "    (\"Transformer\", transformer),\n",
        "    (\"Estimator\", LGBMClassifier())\n",
        "])\n",
        "# Fit model ke data training\n",
        "lbm.fit(X_train, y_train)\n",
        "# Prediksi dan evaluasi\n",
        "y_pred = lbm.predict(X_test)\n",
        "# Evaluasi hasil prediksi\n",
        "print(classification_report(y_test.astype('int'), y_pred))"
      ]
    },
    {
      "cell_type": "code",
      "source": [
        "X_train.dtypes"
      ],
      "metadata": {
        "colab": {
          "base_uri": "https://localhost:8080/",
          "height": 397
        },
        "id": "c_IOVk2EuA9D",
        "outputId": "06a30169-2ce6-4aaf-d15e-ea2432d5fc7d"
      },
      "execution_count": null,
      "outputs": [
        {
          "output_type": "execute_result",
          "data": {
            "text/plain": [
              "From Bank              object\n",
              "Account                object\n",
              "To Bank                object\n",
              "Account.1             float64\n",
              "Amount Received       float64\n",
              "Receiving Currency     object\n",
              "Amount Paid           float64\n",
              "Payment Currency       object\n",
              "Payment Format         object\n",
              "Date                   object\n",
              "dtype: object"
            ],
            "text/html": [
              "<div>\n",
              "<style scoped>\n",
              "    .dataframe tbody tr th:only-of-type {\n",
              "        vertical-align: middle;\n",
              "    }\n",
              "\n",
              "    .dataframe tbody tr th {\n",
              "        vertical-align: top;\n",
              "    }\n",
              "\n",
              "    .dataframe thead th {\n",
              "        text-align: right;\n",
              "    }\n",
              "</style>\n",
              "<table border=\"1\" class=\"dataframe\">\n",
              "  <thead>\n",
              "    <tr style=\"text-align: right;\">\n",
              "      <th></th>\n",
              "      <th>0</th>\n",
              "    </tr>\n",
              "  </thead>\n",
              "  <tbody>\n",
              "    <tr>\n",
              "      <th>From Bank</th>\n",
              "      <td>object</td>\n",
              "    </tr>\n",
              "    <tr>\n",
              "      <th>Account</th>\n",
              "      <td>object</td>\n",
              "    </tr>\n",
              "    <tr>\n",
              "      <th>To Bank</th>\n",
              "      <td>object</td>\n",
              "    </tr>\n",
              "    <tr>\n",
              "      <th>Account.1</th>\n",
              "      <td>float64</td>\n",
              "    </tr>\n",
              "    <tr>\n",
              "      <th>Amount Received</th>\n",
              "      <td>float64</td>\n",
              "    </tr>\n",
              "    <tr>\n",
              "      <th>Receiving Currency</th>\n",
              "      <td>object</td>\n",
              "    </tr>\n",
              "    <tr>\n",
              "      <th>Amount Paid</th>\n",
              "      <td>float64</td>\n",
              "    </tr>\n",
              "    <tr>\n",
              "      <th>Payment Currency</th>\n",
              "      <td>object</td>\n",
              "    </tr>\n",
              "    <tr>\n",
              "      <th>Payment Format</th>\n",
              "      <td>object</td>\n",
              "    </tr>\n",
              "    <tr>\n",
              "      <th>Date</th>\n",
              "      <td>object</td>\n",
              "    </tr>\n",
              "  </tbody>\n",
              "</table>\n",
              "</div><br><label><b>dtype:</b> object</label>"
            ]
          },
          "metadata": {},
          "execution_count": 92
        }
      ]
    },
    {
      "cell_type": "code",
      "execution_count": null,
      "metadata": {
        "id": "iwybK79stCwZ",
        "colab": {
          "base_uri": "https://localhost:8080/"
        },
        "outputId": "ecc7dc03-7d71-4339-c101-9e7460e188c4"
      },
      "outputs": [
        {
          "output_type": "stream",
          "name": "stdout",
          "text": [
            "Model pipeline saved as lgbm_pipeline.joblib1\n"
          ]
        }
      ],
      "source": [
        "import joblib\n",
        "\n",
        "# Save pipeline (including encoder + model) in joblib format\n",
        "joblib.dump(lbm, \"lgbm_pipeline.joblib1\")\n",
        "\n",
        "print(\"Model pipeline saved as lgbm_pipeline.joblib1\")\n"
      ]
    },
    {
      "cell_type": "code",
      "source": [
        "X_test.to_csv('X_test.csv', index=False)"
      ],
      "metadata": {
        "id": "q6tt1ZMxhXul"
      },
      "execution_count": null,
      "outputs": []
    },
    {
      "cell_type": "code",
      "execution_count": null,
      "metadata": {
        "id": "3ZxUfKa5dwZC",
        "colab": {
          "base_uri": "https://localhost:8080/"
        },
        "outputId": "53163766-8b75-47da-9b15-6f554a64d0b1"
      },
      "outputs": [
        {
          "output_type": "stream",
          "name": "stderr",
          "text": [
            "/usr/local/lib/python3.11/dist-packages/sklearn/preprocessing/_encoders.py:246: UserWarning: Found unknown categories in columns [0, 1, 2] during transform. These unknown categories will be encoded as all zeros\n",
            "  warnings.warn(\n",
            "/usr/local/lib/python3.11/dist-packages/sklearn/utils/deprecation.py:151: FutureWarning: 'force_all_finite' was renamed to 'ensure_all_finite' in 1.6 and will be removed in 1.8.\n",
            "  warnings.warn(\n"
          ]
        },
        {
          "output_type": "stream",
          "name": "stdout",
          "text": [
            "AUC: 0.9627934847403272\n"
          ]
        }
      ],
      "source": [
        "from sklearn.metrics import roc_auc_score, classification_report\n",
        "\n",
        "# Prediksi probabilitas untuk kelas positif (1)\n",
        "y_pred_proba = lbm.predict_proba(X_test)[:, 1]\n",
        "\n",
        "# Hitung AUC\n",
        "auc = roc_auc_score(y_test, y_pred_proba)\n",
        "print(f\"AUC: {auc}\")\n"
      ]
    },
    {
      "cell_type": "markdown",
      "source": [],
      "metadata": {
        "id": "LJnUeQkV2xgJ"
      }
    },
    {
      "cell_type": "code",
      "execution_count": null,
      "metadata": {
        "id": "5J3iJLWAS7e8",
        "colab": {
          "base_uri": "https://localhost:8080/"
        },
        "outputId": "3fe058dd-abbc-49fe-bcbb-26cb9e270310"
      },
      "outputs": [
        {
          "output_type": "stream",
          "name": "stdout",
          "text": [
            "        From Bank    Account To Bank  Account.1  Amount Received  \\\n",
            "463397      23402  803D3C380    9371        NaN           876.99   \n",
            "1575340        70  1004288E8   34723        NaN       5049243.05   \n",
            "883246     215266  808D1D510  215266        NaN          5557.99   \n",
            "4856089        15  803DE4A90      21        NaN       1432554.25   \n",
            "4747317    116904  8066668B0  217125        NaN        174944.75   \n",
            "\n",
            "        Receiving Currency  Amount Paid Payment Currency Payment Format  \\\n",
            "463397           US Dollar       876.99        US Dollar            ACH   \n",
            "1575340       Mexican Peso   5049243.05     Mexican Peso           Cash   \n",
            "883246           US Dollar      5557.99        US Dollar   Reinvestment   \n",
            "4856089                Yen   1432554.25              Yen            ACH   \n",
            "4747317              Ruble    174944.75            Ruble         Cheque   \n",
            "\n",
            "               Date  \n",
            "463397   2022-09-01  \n",
            "1575340  2022-09-02  \n",
            "883246   2022-09-01  \n",
            "4856089  2022-09-13  \n",
            "4747317  2022-09-09  \n",
            "463397     1\n",
            "1575340    0\n",
            "883246     0\n",
            "4856089    1\n",
            "4747317    0\n",
            "Name: Is Laundering, dtype: int64\n"
          ]
        }
      ],
      "source": [
        "print(X_train.head())  # Display the first few rows of features\n",
        "print(y_train.head())"
      ]
    }
  ],
  "metadata": {
    "colab": {
      "provenance": []
    },
    "kernelspec": {
      "display_name": "Python 3",
      "name": "python3"
    },
    "language_info": {
      "name": "python"
    }
  },
  "nbformat": 4,
  "nbformat_minor": 0
}